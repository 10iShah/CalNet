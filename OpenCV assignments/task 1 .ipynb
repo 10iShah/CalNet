{
 "cells": [
  {
   "cell_type": "code",
   "execution_count": 32,
   "id": "c3cd8e29",
   "metadata": {},
   "outputs": [],
   "source": [
    "import cv2\n",
    "import numpy as np"
   ]
  },
  {
   "cell_type": "code",
   "execution_count": 39,
   "id": "2a6611e0",
   "metadata": {},
   "outputs": [],
   "source": [
    "image = cv2.imread('./pictures/4shape.png')\n",
    "cv2.imshow('Input Image',image)\n",
    "cv2.waitKey(0)\n",
    "gray = cv2.cvtColor(image,cv2.COLOR_BGR2GRAY)\n",
    "ret,thresh1 = cv2.threshold(gray,127,255,1)\n",
    "contours,hierarchy = cv2.findContours(thresh1.copy(),cv2.RETR_LIST,cv2.CHAIN_APPROX_NONE)\n",
    "cv2.drawContours(image,contours,-1,(0,255,0),3)\n",
    "cv2.imshow('contours',image)\n",
    "cv2.waitKey(0)\n",
    "cv2.destroyAllWindows()"
   ]
  },
  {
   "cell_type": "code",
   "execution_count": 37,
   "id": "c0adda24",
   "metadata": {},
   "outputs": [
    {
     "data": {
      "text/plain": [
       "[3, 4, 8, 16]"
      ]
     },
     "execution_count": 37,
     "metadata": {},
     "output_type": "execute_result"
    }
   ],
   "source": [
    "length = []\n",
    "for cnt in contours:\n",
    "    accuracy = 0.01*cv2.arcLength(cnt,True)\n",
    "    approx = cv2.approxPolyDP(cnt,accuracy,True)\n",
    "    length.append(len(approx))\n",
    "    \n",
    "length.sort()\n",
    "length"
   ]
  },
  {
   "cell_type": "code",
   "execution_count": 38,
   "id": "ad8a96cd",
   "metadata": {},
   "outputs": [],
   "source": [
    "image = cv2.imread('./pictures/4shape.png')\n",
    "cv2.imshow('Input Image',image)\n",
    "cv2.waitKey(0)\n",
    "\n",
    "gray = cv2.cvtColor(image,cv2.COLOR_BGR2GRAY)\n",
    "cv2.imshow('template gray',gray)\n",
    "cv2.waitKey(0)\n",
    "\n",
    "ret,thresh1 = cv2.threshold(gray,127,255,1)\n",
    "contours,hierarchy = cv2.findContours(thresh1.copy(),cv2.RETR_LIST,cv2.CHAIN_APPROX_NONE)\n",
    "i = 0\n",
    "\n",
    "for i in range(number_con):\n",
    "    \n",
    "    for cnt in contours:\n",
    "        \n",
    "        approx = cv2.approxPolyDP(cnt,0.01*cv2.arcLength(cnt,True),True)\n",
    "        \n",
    "        if len(approx) == length[i]:\n",
    "            if len(approx) == 3:\n",
    "                shape_name = 'Triangle 3'\n",
    "                cv2.drawContours(image,[cnt],0,(0,255,0),-1)\n",
    "            \n",
    "                M = cv2.moments(cnt)\n",
    "                cx = int(M['m10']/M['m00'])\n",
    "                cy = int(M['m01']/M['m00'])\n",
    "                cv2.putText(image, shape_name, (cx-70,cy+10), cv2.FONT_HERSHEY_SIMPLEX,1,(0,0,0),1)\n",
    "    \n",
    "            elif len(approx) == 4:\n",
    "                x,y,w,h = cv2.boundingRect(cnt)\n",
    "                M = cv2.moments(cnt)\n",
    "                cx = int(M['m10']/M['m00'])\n",
    "                cy = int(M['m01']/M['m00'])\n",
    "        \n",
    "                if abs(w-h) <=3:\n",
    "                    shape_name = \"square 4\"\n",
    "                    cv2.drawContours(image,[cnt],0,(0,155,255),-1)\n",
    "                    cv2.putText(image, shape_name, (cx-65,cy+5), cv2.FONT_HERSHEY_SIMPLEX,1,(0,0,0),1)\n",
    "            \n",
    "                else:\n",
    "                    shape_name = \"rectangle 4\"\n",
    "                    cv2.drawContours(image,[cnt],0,(0,155,255),-1)\n",
    "                    M = cv2.moments(cnt)\n",
    "                    cx = int(M['m10']/M['m00'])\n",
    "                    cy = int(M['m01']/M['m00'])\n",
    "                    cv2.putText(image, shape_name, (cx-70,cy+10), cv2.FONT_HERSHEY_SIMPLEX,1,(0,0,0),1)\n",
    "            \n",
    "            elif len(approx) == 8:\n",
    "                shape_name = \"star 8\"\n",
    "                cv2.drawContours(image,[cnt],0,(255,255,0),-1)\n",
    "                M = cv2.moments(cnt)\n",
    "                cx = int(M['m10']/M['m00'])\n",
    "                cy = int(M['m01']/M['m00'])\n",
    "                cv2.putText(image, shape_name, (cx-50,cy+10), cv2.FONT_HERSHEY_SIMPLEX,1,(0,0,0),1)\n",
    "        \n",
    "            elif len(approx) >= 15:\n",
    "                shape_name = \"circle 0\"\n",
    "                cv2.drawContours(image,[cnt],0,(0,255,255),-1)\n",
    "                M = cv2.moments(cnt)\n",
    "                cx = int(M['m10']/M['m00'])\n",
    "                cy = int(M['m01']/M['m00'])\n",
    "                cv2.putText(image, shape_name, (cx-65,cy+10), cv2.FONT_HERSHEY_SIMPLEX,1,(0,0,0),1)\n",
    "        \n",
    "            cv2.imshow('identified shapes',image)\n",
    "            cv2.waitKey(0)\n",
    "        \n",
    "cv2.waitKey(0)\n",
    "cv2.destroyAllWindows()"
   ]
  }
 ],
 "metadata": {
  "kernelspec": {
   "display_name": "Python 3",
   "language": "python",
   "name": "python3"
  },
  "language_info": {
   "codemirror_mode": {
    "name": "ipython",
    "version": 3
   },
   "file_extension": ".py",
   "mimetype": "text/x-python",
   "name": "python",
   "nbconvert_exporter": "python",
   "pygments_lexer": "ipython3",
   "version": "3.8.8"
  }
 },
 "nbformat": 4,
 "nbformat_minor": 5
}
