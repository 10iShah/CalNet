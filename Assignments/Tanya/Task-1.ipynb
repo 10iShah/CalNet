{
 "cells": [
  {
   "cell_type": "code",
   "execution_count": 180,
   "id": "ace35200",
   "metadata": {},
   "outputs": [],
   "source": [
    "import cv2\n",
    "import numpy as np"
   ]
  },
  {
   "cell_type": "code",
   "execution_count": 181,
   "id": "61f5f1fd",
   "metadata": {},
   "outputs": [],
   "source": [
    "image = cv2.imread(r'C:\\Users\\Tanya srivastava\\Downloads\\shapessss.png')\n",
    "cv2.imshow(\"Image\",image)\n",
    "img = image\n",
    "cv2.waitKey()\n",
    "cv2.destroyAllWindows()\n",
    "gray = cv2.cvtColor(img, cv2.COLOR_BGR2GRAY)"
   ]
  },
  {
   "cell_type": "markdown",
   "id": "ed06b696",
   "metadata": {},
   "source": [
    "# Drawing Contours "
   ]
  },
  {
   "cell_type": "code",
   "execution_count": 182,
   "id": "e8411c3c",
   "metadata": {},
   "outputs": [],
   "source": [
    "ret,thresh = cv2.threshold(gray,127,225,1)\n",
    "contours,hi = cv2.findContours(thresh.copy(),cv2.RETR_EXTERNAL,cv2.CHAIN_APPROX_NONE)"
   ]
  },
  {
   "cell_type": "code",
   "execution_count": 183,
   "id": "8ee83174",
   "metadata": {},
   "outputs": [],
   "source": [
    "cv2.drawContours(img, contours, -1, (0,255,0), 3)\n",
    "cv2.imshow(\"Contours\",img)\n",
    "cv2.waitKey(0)\n",
    "cv2.destroyAllWindows()"
   ]
  },
  {
   "cell_type": "code",
   "execution_count": 184,
   "id": "cfa0d665",
   "metadata": {},
   "outputs": [
    {
     "data": {
      "text/plain": [
       "5"
      ]
     },
     "execution_count": 184,
     "metadata": {},
     "output_type": "execute_result"
    }
   ],
   "source": [
    "len(contours)"
   ]
  },
  {
   "cell_type": "markdown",
   "id": "c18e775b",
   "metadata": {},
   "source": [
    "# Identifying shapes and writing their names and number of sides (sorted)"
   ]
  },
  {
   "cell_type": "code",
   "execution_count": 185,
   "id": "879c82cf",
   "metadata": {},
   "outputs": [
    {
     "data": {
      "text/plain": [
       "[3, 4, 6, 12, 15]"
      ]
     },
     "execution_count": 185,
     "metadata": {},
     "output_type": "execute_result"
    }
   ],
   "source": [
    "length=[]\n",
    "for cnt in contours:\n",
    "    approx = cv2.approxPolyDP(cnt,0.01*cv2.arcLength(cnt,True),True)\n",
    "    length.append(len(approx))\n",
    "length.sort()\n",
    "length\n"
   ]
  },
  {
   "cell_type": "code",
   "execution_count": 186,
   "id": "71d01c35",
   "metadata": {},
   "outputs": [
    {
     "data": {
      "text/plain": [
       "int"
      ]
     },
     "execution_count": 186,
     "metadata": {},
     "output_type": "execute_result"
    }
   ],
   "source": [
    "type(len(contours))"
   ]
  },
  {
   "cell_type": "code",
   "execution_count": 187,
   "id": "49898bec",
   "metadata": {},
   "outputs": [],
   "source": [
    "image = cv2.imread(r'C:\\Users\\Tanya srivastava\\Downloads\\shapessss.png')\n",
    "img = image\n",
    "for i in range(0,5):\n",
    "    \n",
    "    for cnt in contours:\n",
    "        \n",
    "        approx = cv2.approxPolyDP(cnt,0.01*cv2.arcLength(cnt,True),True)\n",
    "        #print(len(approx)\n",
    "\n",
    "        if len(approx) == length[i]:\n",
    "            if len(approx) == 3:\n",
    "                shape_ = 'Triangle-3'\n",
    "                cv2.drawContours(image,[cnt],0,(250,10,100),-1)\n",
    "            \n",
    "                M = cv2.moments(cnt)\n",
    "                cx = int(M['m10']/M['m00'])\n",
    "                cy = int(M['m01']/M['m00'])\n",
    "                cv2.putText(image, shape_, (cx-40,cy+10), cv2.FONT_HERSHEY_SIMPLEX,0.5,(0,0,0),1)\n",
    "    \n",
    "            elif len(approx) == 4:\n",
    "                shape_ = \"Rectangle-4\"\n",
    "                cv2.drawContours(image,[cnt],0,(0,155,255),-1)\n",
    "                M = cv2.moments(cnt)\n",
    "                cx = int(M['m10']/M['m00'])\n",
    "                cy = int(M['m01']/M['m00'])\n",
    "                cv2.putText(image,shape_,(cx-60, cy+5), cv2.FONT_HERSHEY_SIMPLEX, 0.6, (0, 0, 0), 1)\n",
    "\n",
    "            \n",
    "            elif len(approx) == 12:\n",
    "                shape_ = \"Star-12\"\n",
    "                cv2.drawContours(image,[cnt],0,(78,255,78),-1)\n",
    "                M = cv2.moments(cnt)\n",
    "                cx = int(M['m10']/M['m00'])\n",
    "                cy = int(M['m01']/M['m00'])\n",
    "                cv2.putText(image, shape_, (cx-50,cy+5), cv2.FONT_HERSHEY_SIMPLEX,0.7,(0,0,0),1)\n",
    "        \n",
    "            elif len(approx) >= 15:\n",
    "                shape_ = \"Circle\"\n",
    "                cv2.drawContours(image,[cnt],0,(0,255,255),-1)\n",
    "                M = cv2.moments(cnt)\n",
    "                cx = int(M['m10']/M['m00'])\n",
    "                cy = int(M['m01']/M['m00'])\n",
    "                cv2.putText(image,shape_,(cx-30, cy+10), cv2.FONT_HERSHEY_SIMPLEX, 0.7, (0, 0, 0), 1)\n",
    "\n",
    "            \n",
    "            elif len(approx) ==6:\n",
    "                \n",
    "                shape_ = \"Hexagon-6\"\n",
    "                cv2.drawContours(img,[cnt],0,(125,5,255),-1)\n",
    "                M = cv2.moments(cnt)\n",
    "                cx = int (M['m10'] / M['m00'])\n",
    "                cy = int(M['m01'] / M['m00'])\n",
    "                cv2.putText(image,shape_,(cx-45, cy+5), cv2.FONT_HERSHEY_SIMPLEX, 0.5, (0, 0, 0), 1)\n",
    "        \n",
    "            cv2.imshow('identified shapes',image)\n",
    "            cv2.waitKey(0)\n",
    "        \n",
    "cv2.waitKey(0)\n",
    "cv2.destroyAllWindows()"
   ]
  }
 ],
 "metadata": {
  "kernelspec": {
   "display_name": "Python 3",
   "language": "python",
   "name": "python3"
  },
  "language_info": {
   "codemirror_mode": {
    "name": "ipython",
    "version": 3
   },
   "file_extension": ".py",
   "mimetype": "text/x-python",
   "name": "python",
   "nbconvert_exporter": "python",
   "pygments_lexer": "ipython3",
   "version": "3.8.8"
  }
 },
 "nbformat": 4,
 "nbformat_minor": 5
}
